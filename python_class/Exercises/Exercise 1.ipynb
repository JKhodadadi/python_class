{
 "cells": [
  {
   "cell_type": "markdown",
   "id": "a0859ab2",
   "metadata": {},
   "source": [
    "1. Make a variable named item0 and set its value to the first item in the list below"
   ]
  },
  {
   "cell_type": "code",
   "execution_count": 1,
   "id": "421134ea",
   "metadata": {},
   "outputs": [
    {
     "name": "stdout",
     "output_type": "stream",
     "text": [
      "\n"
     ]
    }
   ],
   "source": [
    "mylist = [1, 3, 6, 10, 15, 21, 28, 36, 45, 55, 66, 78]\n",
    "\n",
    "\n",
    "print()"
   ]
  },
  {
   "cell_type": "markdown",
   "id": "d78573ca",
   "metadata": {},
   "source": [
    "2. Print the last item in this list"
   ]
  },
  {
   "cell_type": "code",
   "execution_count": 2,
   "id": "b111863b",
   "metadata": {},
   "outputs": [],
   "source": [
    "mylist = [1, 3, 6, 10, 15, 21, 28, 36, 45, 55, 66, 78]"
   ]
  },
  {
   "cell_type": "markdown",
   "id": "1eaa5a3a",
   "metadata": {},
   "source": [
    "3. The append() method allows you to add items to your lists. add the string *\"R\"* to the below list with append() method"
   ]
  },
  {
   "cell_type": "code",
   "execution_count": 3,
   "id": "6359bd4c",
   "metadata": {},
   "outputs": [],
   "source": [
    "mylist = [\"Julia\", \"Python\"]"
   ]
  },
  {
   "cell_type": "markdown",
   "id": "7eebe895",
   "metadata": {},
   "source": [
    "4. Add [\"SQL\", \"Scala\"] as a list to mylist"
   ]
  },
  {
   "cell_type": "code",
   "execution_count": 5,
   "id": "349f3618",
   "metadata": {},
   "outputs": [],
   "source": [
    "\n",
    "print(mylist)"
   ]
  },
  {
   "cell_type": "markdown",
   "id": "c29de91b",
   "metadata": {},
   "source": [
    "5. insert \"C++\" to mylist to the index 1"
   ]
  },
  {
   "cell_type": "code",
   "execution_count": 6,
   "id": "a0c19e79",
   "metadata": {},
   "outputs": [],
   "source": [
    "print(mylist)"
   ]
  },
  {
   "cell_type": "markdown",
   "id": "b05a8158",
   "metadata": {},
   "source": [
    "6. Remove \"Julia\" from mylist"
   ]
  },
  {
   "cell_type": "code",
   "execution_count": 7,
   "id": "0c7369c9",
   "metadata": {},
   "outputs": [],
   "source": [
    "print(mylist)"
   ]
  },
  {
   "cell_type": "markdown",
   "id": "178265b4",
   "metadata": {},
   "source": [
    "7. Reverse mylist"
   ]
  },
  {
   "cell_type": "code",
   "execution_count": 8,
   "id": "dadbc08a",
   "metadata": {},
   "outputs": [],
   "source": [
    "print(mylist)"
   ]
  },
  {
   "cell_type": "markdown",
   "id": "eab5e6dd",
   "metadata": {},
   "source": [
    "8. Count how many \"0\" is there in list1"
   ]
  },
  {
   "cell_type": "code",
   "execution_count": 10,
   "id": "89e11363",
   "metadata": {},
   "outputs": [],
   "source": [
    "list1 = [0, 0, 1, 0, 0, 1, 6, 0, 1, 0, 2, 1, 6, 6, 1, 0, 16, 1, 18, 0, 6, 2, 22, 1, 0, 6, 3, 6, 28, 1, 15, 0, 2, 16, 6, 1, 3, 18, 6, 0, 5, 6, 21, 2, 1, 22, 46, 1, 42, 0, 16, 6, 13, 3, 2, 6, 18, 28, 58, 1, 60, 15, 6, 0, 6, 2, 33, 16, 22, 6, 35, 1, 8, 3, 1, 18, 6, 6, 13, 0, 9, 5, 41, 6, 16, 21, 28, 2, 44, 1]"
   ]
  },
  {
   "cell_type": "markdown",
   "id": "617e6183",
   "metadata": {},
   "source": [
    "9. Sum numbers in list1"
   ]
  },
  {
   "cell_type": "code",
   "execution_count": 11,
   "id": "3fbac194",
   "metadata": {},
   "outputs": [],
   "source": [
    "mylist = [0, 0, 1, 0, 0, 1, 6, 0, 1, 0, 2, 1, 6, 6, 1, 0, 16, 1, 18, 0, 6, 2, 22, 1, 0, 6, 3, 6, 28, 1, 15, 0, 2, 16, 6, 1, 3, 18, 6, 0, 5, 6, 21, 2, 1, 22, 46, 1, 42, 0, 16, 6, 13, 3, 2, 6, 18, 28, 58, 1, 60, 15, 6, 0, 6, 2, 33, 16, 22, 6, 35, 1, 8, 3, 1, 18, 6, 6, 13, 0, 9, 5, 41, 6, 16, 21, 28, 2, 44, 1]"
   ]
  },
  {
   "cell_type": "code",
   "execution_count": null,
   "id": "a673181c",
   "metadata": {},
   "outputs": [],
   "source": []
  }
 ],
 "metadata": {
  "kernelspec": {
   "display_name": "Python 3 (ipykernel)",
   "language": "python",
   "name": "python3"
  },
  "language_info": {
   "codemirror_mode": {
    "name": "ipython",
    "version": 3
   },
   "file_extension": ".py",
   "mimetype": "text/x-python",
   "name": "python",
   "nbconvert_exporter": "python",
   "pygments_lexer": "ipython3",
   "version": "3.9.7"
  }
 },
 "nbformat": 4,
 "nbformat_minor": 5
}
