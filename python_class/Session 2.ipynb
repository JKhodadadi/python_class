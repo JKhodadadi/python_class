{
 "cells": [
  {
   "cell_type": "code",
   "execution_count": 1,
   "id": "98fdcf00",
   "metadata": {},
   "outputs": [],
   "source": [
    "s1 = \"asd\"\n",
    "s2 = \"xyz\"\n",
    "s3 = \"lmn\""
   ]
  },
  {
   "cell_type": "code",
   "execution_count": 8,
   "id": "9436a370",
   "metadata": {},
   "outputs": [
    {
     "data": {
      "text/plain": [
       "89"
      ]
     },
     "execution_count": 8,
     "metadata": {},
     "output_type": "execute_result"
    }
   ],
   "source": [
    "ord(\"Y\")"
   ]
  },
  {
   "cell_type": "code",
   "execution_count": 9,
   "id": "6b978a98",
   "metadata": {},
   "outputs": [
    {
     "data": {
      "text/plain": [
       "'U'"
      ]
     },
     "execution_count": 9,
     "metadata": {},
     "output_type": "execute_result"
    }
   ],
   "source": [
    "chr(85)"
   ]
  },
  {
   "cell_type": "code",
   "execution_count": 10,
   "id": "647abb65",
   "metadata": {},
   "outputs": [
    {
     "data": {
      "text/plain": [
       "3"
      ]
     },
     "execution_count": 10,
     "metadata": {},
     "output_type": "execute_result"
    }
   ],
   "source": [
    "len(s1)"
   ]
  },
  {
   "cell_type": "code",
   "execution_count": 15,
   "id": "3d686503",
   "metadata": {},
   "outputs": [],
   "source": [
    "s4 = \"Python & AI Class 1401\""
   ]
  },
  {
   "cell_type": "code",
   "execution_count": 16,
   "id": "2605e2b5",
   "metadata": {},
   "outputs": [
    {
     "data": {
      "text/plain": [
       "22"
      ]
     },
     "execution_count": 16,
     "metadata": {},
     "output_type": "execute_result"
    }
   ],
   "source": [
    "len(s4)"
   ]
  },
  {
   "cell_type": "code",
   "execution_count": 18,
   "id": "18ed4162",
   "metadata": {},
   "outputs": [
    {
     "data": {
      "text/plain": [
       "'Python'"
      ]
     },
     "execution_count": 18,
     "metadata": {},
     "output_type": "execute_result"
    }
   ],
   "source": [
    "s4[0:6]"
   ]
  },
  {
   "cell_type": "code",
   "execution_count": 49,
   "id": "566ab7d1",
   "metadata": {},
   "outputs": [
    {
     "data": {
      "text/plain": [
       "'Class 1401'"
      ]
     },
     "execution_count": 49,
     "metadata": {},
     "output_type": "execute_result"
    }
   ],
   "source": [
    "s4[-10::]"
   ]
  },
  {
   "cell_type": "code",
   "execution_count": 57,
   "id": "700ac090",
   "metadata": {},
   "outputs": [
    {
     "data": {
      "text/plain": [
       "''"
      ]
     },
     "execution_count": 57,
     "metadata": {},
     "output_type": "execute_result"
    }
   ],
   "source": [
    "s4[-23:0:1]"
   ]
  },
  {
   "cell_type": "code",
   "execution_count": 31,
   "id": "32b7b39a",
   "metadata": {},
   "outputs": [
    {
     "data": {
      "text/plain": [
       "int"
      ]
     },
     "execution_count": 31,
     "metadata": {},
     "output_type": "execute_result"
    }
   ],
   "source": [
    "a = 2\n",
    "type(a)"
   ]
  },
  {
   "cell_type": "code",
   "execution_count": 32,
   "id": "a8c58fd9",
   "metadata": {},
   "outputs": [
    {
     "data": {
      "text/plain": [
       "'2'"
      ]
     },
     "execution_count": 32,
     "metadata": {},
     "output_type": "execute_result"
    }
   ],
   "source": [
    "str(2)"
   ]
  },
  {
   "cell_type": "code",
   "execution_count": 51,
   "id": "16473872",
   "metadata": {},
   "outputs": [
    {
     "data": {
      "text/plain": [
       "'P'"
      ]
     },
     "execution_count": 51,
     "metadata": {},
     "output_type": "execute_result"
    }
   ],
   "source": [
    "s4[0]"
   ]
  },
  {
   "cell_type": "code",
   "execution_count": 58,
   "id": "f71560db",
   "metadata": {},
   "outputs": [
    {
     "data": {
      "text/plain": [
       "'P'"
      ]
     },
     "execution_count": 58,
     "metadata": {},
     "output_type": "execute_result"
    }
   ],
   "source": [
    "s4[-22]"
   ]
  },
  {
   "cell_type": "code",
   "execution_count": 65,
   "id": "3ee820c6",
   "metadata": {},
   "outputs": [
    {
     "name": "stdout",
     "output_type": "stream",
     "text": [
      "Poduct  5 in  4 is equal to  20\n"
     ]
    }
   ],
   "source": [
    "a = 5\n",
    "b = 4\n",
    "print(\"Poduct \", a, \"in \", b ,\"is equal to \", a*b)"
   ]
  },
  {
   "cell_type": "code",
   "execution_count": 67,
   "id": "3dd9ae45",
   "metadata": {},
   "outputs": [
    {
     "name": "stdout",
     "output_type": "stream",
     "text": [
      "Concat 5 to  4 is equal to 9\n"
     ]
    }
   ],
   "source": [
    "print(f\"Concat {a} to  {b} is equal to {a+b}\")"
   ]
  },
  {
   "cell_type": "code",
   "execution_count": 69,
   "id": "3899b076",
   "metadata": {},
   "outputs": [
    {
     "data": {
      "text/plain": [
       "'Python Class 1401'"
      ]
     },
     "execution_count": 69,
     "metadata": {},
     "output_type": "execute_result"
    }
   ],
   "source": [
    "s4[0:7] + s4[12:]"
   ]
  },
  {
   "cell_type": "code",
   "execution_count": null,
   "id": "d197f2f6",
   "metadata": {},
   "outputs": [],
   "source": []
  }
 ],
 "metadata": {
  "kernelspec": {
   "display_name": "Python 3 (ipykernel)",
   "language": "python",
   "name": "python3"
  },
  "language_info": {
   "codemirror_mode": {
    "name": "ipython",
    "version": 3
   },
   "file_extension": ".py",
   "mimetype": "text/x-python",
   "name": "python",
   "nbconvert_exporter": "python",
   "pygments_lexer": "ipython3",
   "version": "3.9.7"
  }
 },
 "nbformat": 4,
 "nbformat_minor": 5
}
