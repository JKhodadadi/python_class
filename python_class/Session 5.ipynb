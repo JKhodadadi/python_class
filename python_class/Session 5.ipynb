{
 "cells": [
  {
   "cell_type": "code",
   "execution_count": 15,
   "id": "85b8eb46",
   "metadata": {},
   "outputs": [],
   "source": [
    "list1 = [1, 1]\n",
    "for i in range(10):\n",
    "    a = list1[i+1] + list1[i]\n",
    "    list1.append(a)"
   ]
  },
  {
   "cell_type": "code",
   "execution_count": 16,
   "id": "521eb208",
   "metadata": {},
   "outputs": [
    {
     "data": {
      "text/plain": [
       "[1, 1, 2, 3, 5, 8, 13, 21, 34, 55, 89, 144]"
      ]
     },
     "execution_count": 16,
     "metadata": {},
     "output_type": "execute_result"
    }
   ],
   "source": [
    "list1"
   ]
  },
  {
   "cell_type": "code",
   "execution_count": 17,
   "id": "f6257b0d",
   "metadata": {},
   "outputs": [
    {
     "name": "stdout",
     "output_type": "stream",
     "text": [
      "1\n",
      "1\n",
      "2\n",
      "3\n",
      "5\n",
      "8\n",
      "13\n",
      "21\n",
      "34\n",
      "55\n",
      "89\n",
      "144\n"
     ]
    }
   ],
   "source": [
    "for i in list1:\n",
    "    print(i)\n",
    "#     print(/n)"
   ]
  },
  {
   "cell_type": "code",
   "execution_count": 30,
   "id": "d107399a",
   "metadata": {},
   "outputs": [
    {
     "name": "stdout",
     "output_type": "stream",
     "text": [
      "1\n",
      "2\n",
      "3\n",
      "4\n",
      "5\n",
      "6\n",
      "7\n",
      "8\n"
     ]
    }
   ],
   "source": [
    "m = [[1,2,3,4],[5,6,7,8]]\n",
    "for i in m:\n",
    "#     print(i)\n",
    "    for k in i:\n",
    "        print(k)\n",
    "    "
   ]
  },
  {
   "cell_type": "code",
   "execution_count": 39,
   "id": "436a2530",
   "metadata": {},
   "outputs": [
    {
     "name": "stdout",
     "output_type": "stream",
     "text": [
      "2,1\n",
      "3,2\n",
      "5,3\n",
      "8,4\n",
      "13,5\n",
      "21,6\n",
      "34,7\n",
      "55,8\n",
      "89,9\n",
      "144,10\n"
     ]
    }
   ],
   "source": [
    "i = 0\n",
    "list1 = [1,1]\n",
    "while(True):\n",
    "    a = list1[i+1] + list1[i]\n",
    "    list1.append(a)\n",
    "    i+=1\n",
    "    if i > 10:\n",
    "        break\n",
    "    print(str(a) + \",\" + str(i))\n",
    "\n",
    "# print(list1)"
   ]
  },
  {
   "cell_type": "code",
   "execution_count": null,
   "id": "eee07e74",
   "metadata": {},
   "outputs": [],
   "source": [
    "list1"
   ]
  },
  {
   "cell_type": "code",
   "execution_count": null,
   "id": "60fc67fb",
   "metadata": {},
   "outputs": [],
   "source": []
  }
 ],
 "metadata": {
  "kernelspec": {
   "display_name": "Python 3 (ipykernel)",
   "language": "python",
   "name": "python3"
  },
  "language_info": {
   "codemirror_mode": {
    "name": "ipython",
    "version": 3
   },
   "file_extension": ".py",
   "mimetype": "text/x-python",
   "name": "python",
   "nbconvert_exporter": "python",
   "pygments_lexer": "ipython3",
   "version": "3.9.7"
  }
 },
 "nbformat": 4,
 "nbformat_minor": 5
}
