{
 "cells": [
  {
   "cell_type": "code",
   "execution_count": 1,
   "id": "9c99b1d2",
   "metadata": {},
   "outputs": [
    {
     "data": {
      "text/plain": [
       "str"
      ]
     },
     "execution_count": 1,
     "metadata": {},
     "output_type": "execute_result"
    }
   ],
   "source": [
    "type(\"asdasda\")"
   ]
  },
  {
   "cell_type": "code",
   "execution_count": 7,
   "id": "e7b83304",
   "metadata": {},
   "outputs": [
    {
     "data": {
      "text/plain": [
       "False"
      ]
     },
     "execution_count": 7,
     "metadata": {},
     "output_type": "execute_result"
    }
   ],
   "source": [
    "any([None])"
   ]
  },
  {
   "cell_type": "code",
   "execution_count": 9,
   "id": "8ef2516d",
   "metadata": {},
   "outputs": [
    {
     "data": {
      "text/plain": [
       "False"
      ]
     },
     "execution_count": 9,
     "metadata": {},
     "output_type": "execute_result"
    }
   ],
   "source": [
    "any(['ddd' in {'aaa','bbb','ccc'}])"
   ]
  },
  {
   "cell_type": "code",
   "execution_count": 10,
   "id": "c14fb3c5",
   "metadata": {},
   "outputs": [],
   "source": [
    "list1=[1, 2, 3]"
   ]
  },
  {
   "cell_type": "code",
   "execution_count": 11,
   "id": "6694a035",
   "metadata": {},
   "outputs": [
    {
     "data": {
      "text/plain": [
       "3"
      ]
     },
     "execution_count": 11,
     "metadata": {},
     "output_type": "execute_result"
    }
   ],
   "source": [
    "len(list1)"
   ]
  },
  {
   "cell_type": "code",
   "execution_count": 25,
   "id": "31270cd3",
   "metadata": {},
   "outputs": [],
   "source": [
    "def f(n):\n",
    "    if n<=2:\n",
    "        return(1)\n",
    "    else:\n",
    "        return (f(n-1) + f(n-2))"
   ]
  },
  {
   "cell_type": "code",
   "execution_count": 26,
   "id": "4cd8ac0e",
   "metadata": {},
   "outputs": [
    {
     "data": {
      "text/plain": [
       "21"
      ]
     },
     "execution_count": 26,
     "metadata": {},
     "output_type": "execute_result"
    }
   ],
   "source": [
    "f(8)"
   ]
  },
  {
   "cell_type": "code",
   "execution_count": null,
   "id": "43b810fe",
   "metadata": {},
   "outputs": [],
   "source": []
  }
 ],
 "metadata": {
  "kernelspec": {
   "display_name": "Python 3 (ipykernel)",
   "language": "python",
   "name": "python3"
  },
  "language_info": {
   "codemirror_mode": {
    "name": "ipython",
    "version": 3
   },
   "file_extension": ".py",
   "mimetype": "text/x-python",
   "name": "python",
   "nbconvert_exporter": "python",
   "pygments_lexer": "ipython3",
   "version": "3.9.7"
  }
 },
 "nbformat": 4,
 "nbformat_minor": 5
}
